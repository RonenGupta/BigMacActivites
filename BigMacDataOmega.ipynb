{
 "cells": [
  {
   "attachments": {},
   "cell_type": "markdown",
   "metadata": {},
   "source": [
    "# Big Mac Data Omega\n",
    "## Your Task\n",
    "Now it's time to put it all together and complete an activity which demonstrates what you've learned so far. You may use several code windows if this helps.\n",
    "\n",
    "1) **Read** in the *big_mac_source_data_v2.csv* file and store it in a dataframe.\n",
    "\n",
    "2) **Remove** the *iso_a3*, *GDP_dollar* and *GDP_local* columns.\n",
    "\n",
    "3) **Remove** all rows **except** for *Australia*, *Britan*, *France*, *New Zealand* and *United States*. Hint: [Drop All Rows Except](https://www.statology.org/pandas-drop-all-rows-except/).\n",
    "\n",
    "4) **Create** a new column which calculates the **US dollar price** by multipling *local_price* by *dollar_ex* [How to mulitply two columns in Pandas](https://www.statology.org/pandas-multiply-two-columns/). If you get a warning due to setting a value on copy of a slice, use: \n",
    "\n",
    "    `name_of_your_dataframe.loc[:, 'yournewcolumnname'] = ...` \n",
    "\n",
    "5) **Calculate** the **mean** for each country in USD. You may need to first isolate each country [Select rows from Dataframe based on Column Values](https://sentry.io/answers/select-rows-from-a-python-pandas-dataframe-based-on-column-values/)\n",
    "\n",
    "6) Use **matplotlib** to plot a **comparison** of each country's average - look at [matplotlib Bars](https://www.w3schools.com/python/matplotlib_bars.asp)\n",
    "\n",
    "7) Do step 4 and 5 again for **median**.\n",
    "\n",
    "8) **Extension:** See if you can simplify step 5-7 into the minimum amount of code possible (use *for loops* and *functions* where possible)"
   ]
  },
  {
   "cell_type": "code",
   "execution_count": 18,
   "metadata": {},
   "outputs": [
    {
     "name": "stdout",
     "output_type": "stream",
     "text": [
      "               name currency_code  local_price  dollar_ex        date  \\\n",
      "1         Australia           AUD         2.59   1.680000  2000-04-01   \n",
      "10          Britain           GBP         1.90   0.632911  2000-04-01   \n",
      "19      New Zealand           NZD         3.40   2.010000  2000-04-01   \n",
      "26    United States           USD         2.24   1.000000  2000-04-01   \n",
      "29        Australia           AUD         3.00   1.980000  2001-04-01   \n",
      "...             ...           ...          ...        ...         ...   \n",
      "2019      Australia           AUD         7.45   1.484010  2023-07-01   \n",
      "2039         France           EUR         5.30   0.906990  2023-07-01   \n",
      "2040        Britain           GBP         4.19   0.777210  2023-07-01   \n",
      "2066    New Zealand           NZD         8.10   1.606813  2023-07-01   \n",
      "2085  United States           USD         5.58   1.000000  2023-07-01   \n",
      "\n",
      "            USD  \n",
      "1      4.351200  \n",
      "10     1.202532  \n",
      "19     6.834000  \n",
      "26     2.240000  \n",
      "29     5.940000  \n",
      "...         ...  \n",
      "2019  11.055873  \n",
      "2039   4.807047  \n",
      "2040   3.256510  \n",
      "2066  13.015184  \n",
      "2085   5.580000  \n",
      "\n",
      "[181 rows x 6 columns]\n"
     ]
    }
   ],
   "source": [
    "import pandas as pd\n",
    "import matplotlib as plt\n",
    "\n",
    "big_mac_data_v3 = pd.read_csv('data/big_mac_source_data_v2.csv')\n",
    "new_big_mac_data_v3 = big_mac_data_v3.drop(columns=['iso_a3', 'GDP_dollar', 'GDP_local'])\n",
    "even_new_big_mac_data_v3 = new_big_mac_data_v3.query(\"name == 'Australia' | name == 'New Zealand' | name == 'Britain' | name == 'France' | name == 'United States'\")\n",
    "even_new_big_mac_data_v3.loc[:, ['USD']] = even_new_big_mac_data_v3.local_price * even_new_big_mac_data_v3.dollar_ex\n",
    "\n",
    "country_list = ['Australia', 'France', 'Britain', 'New Zealand', 'United States']\n",
    "\n",
    "i = even_new_big_mac_data_v3.loc[even_new_big_mac_data_v3[\"name\"].isin(country_list)]\n",
    "print(i)\n"
   ]
  }
 ],
 "metadata": {
  "kernelspec": {
   "display_name": "Python 3",
   "language": "python",
   "name": "python3"
  },
  "language_info": {
   "codemirror_mode": {
    "name": "ipython",
    "version": 3
   },
   "file_extension": ".py",
   "mimetype": "text/x-python",
   "name": "python",
   "nbconvert_exporter": "python",
   "pygments_lexer": "ipython3",
   "version": "3.11.0"
  }
 },
 "nbformat": 4,
 "nbformat_minor": 2
}
